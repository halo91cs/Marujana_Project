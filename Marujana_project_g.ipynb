{
 "cells": [
  {
   "cell_type": "code",
   "execution_count": 1,
   "metadata": {},
   "outputs": [],
   "source": [
    "import tweepy\n",
    "import sys\n",
    "import json\n",
    "import urllib\n",
    "import urllib.request\n",
    "import twitter\n",
    "import os"
   ]
  },
  {
   "cell_type": "code",
   "execution_count": 2,
   "metadata": {},
   "outputs": [],
   "source": [
    "### In order to access to the Twitter API, you need to have a developer account.\n",
    "t = twitter.Twitter(auth=twitter.OAuth(\"your_consumer_key\", \"your_consumer_secret\", \"your_access_token\", \"your_access_token_secret\"))"
   ]
  },
  {
   "cell_type": "code",
   "execution_count": 6,
   "metadata": {
    "collapsed": true
   },
   
    
   "source": [
    "### This code simply downloads the profile images of the users\n",
    "classifiedUsersPath=\"~/manuallyClassifiedUsers_2001_3000.json\"\n",
    "usersPath=\"~/userss.json\"\n",
    "\n",
    "classifiedUsers=open(classifiedUsersPath)\n",
    "users=open(usersPath)\n",
    "\n",
    "notFounds = []\n",
    "for classifiedUser in classifiedUsers:\n",
    "    classifiedUser_object = json.loads(classifiedUser) #gets the first line from manuallyClassifiedUsers..\n",
    "    userName = classifiedUser_object[\"field1\"]\n",
    "    userType = classifiedUser_object[\"field0\"]\n",
    "    imgName = ''\n",
    "    profile_img_url = ''\n",
    "    profile_img_url, imgName = getProfileImgs(userName, userType, profile_img_url, imgName)            \n",
    "    try:\n",
    "        urllib.request.urlretrieve(profile_img_url, \"~/marujana_imgs/%s\" % imgName)    \n",
    "    except:\n",
    "        notFounds.append(userName)\n",
    "        print(profile_img_url)\n",
    "        print('No {} username or id found for {}'.format(userType, userName))        "
   ]
  },
  {
   "cell_type": "code",
   "execution_count": 5,
   "metadata": {},
   "outputs": [],
   "source": [
    "### getProfileImgs method looks up the userName passed in the function\n",
    "### if it is a valid username it finds the associated profile img url for the user.\n",
    "### If it is not a valid username (user might have changed their screenName),\n",
    "### the method then checks the id of that user in userss.json file that contains all info about all users.\n",
    "### If it finds the user on Twitter based on user's id, then again it gets the profile img url of the user to be downloaded\n",
    "### If neither is the case, it simply returns a fake profile img url.\n",
    "### getProfileImgs method returns profile_img_url and imgName info at the end\n",
    "\n",
    "usersPath=\"~/userss.json\"\n",
    "users=open(usersPath)\n",
    "def getProfileImgs(userName, userType, profile_img_url, imgName):\n",
    "    try:        \n",
    "        info = t.users.lookup(screen_name=userName)\n",
    "        result = json.dumps(info)\n",
    "        lobj = json.loads(result) #type is list\n",
    "        profile_img_url = lobj[0][\"profile_image_url_https\"]\n",
    "        ext = 'jpg'#profile_img_url.split('.')[-1]\n",
    "        imgName = (userName + '.' + userType + '.' + ext)\n",
    "        #return profile_img_url\n",
    "    except:\n",
    "        for user in users:\n",
    "            user_object = json.loads(user)\n",
    "            if user_object['tweet']['user']['screenName'] == userName:\n",
    "                userId = user_object['tweet']['user']['id']\n",
    "                try:                    \n",
    "                    info = t.users.lookup(user_id=userId)\n",
    "                    result = json.dumps(info)\n",
    "                    lobj = json.loads(result) #type is list\n",
    "                    profile_img_url = lobj[0][\"profile_image_url_https\"]\n",
    "                    ext = 'jpg'#profile_img_url.split('.')[-1]\n",
    "                    imgName = (userName + '.' + userType + '.' + ext)\n",
    "                    #print('here in try')                 \n",
    "                except:                    \n",
    "                    profile_img_url = 'https://pbs.twimg.com/invalid_anormalUrl.jpg'\n",
    "                    imgName = 'error.jpg'\n",
    "                    #print(profile_img_url)\n",
    "                break            \n",
    "    return profile_img_url, imgName"
   ]
  }
 ],
 "metadata": {
  "kernelspec": {
   "display_name": "Python 3",
   "language": "python",
   "name": "python3"
  },
  "language_info": {
   "codemirror_mode": {
    "name": "ipython",
    "version": 3
   },
   "file_extension": ".py",
   "mimetype": "text/x-python",
   "name": "python",
   "nbconvert_exporter": "python",
   "pygments_lexer": "ipython3",
   "version": "3.7.3"
  }
 },
 "nbformat": 4,
 "nbformat_minor": 2
}
